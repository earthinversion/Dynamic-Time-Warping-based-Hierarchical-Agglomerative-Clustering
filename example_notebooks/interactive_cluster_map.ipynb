{
 "cells": [
  {
   "cell_type": "code",
   "execution_count": 1,
   "id": "complimentary-catalyst",
   "metadata": {},
   "outputs": [],
   "source": [
    "from dtwhaclustering.dtw_analysis import dtw_signal_pairs, dtw_clustering\n",
    "import numpy as np\n",
    "from scipy import signal\n",
    "import matplotlib.pyplot as plt\n",
    "from dtaidistance import dtw\n",
    "import pandas as pd\n",
    "import os\n",
    "%matplotlib inline \n",
    "\n",
    "# default matplotlib parameters\n",
    "import matplotlib\n",
    "\n",
    "plt.rcParams[\"figure.figsize\"] = (12, 6)\n",
    "plt.style.use('ggplot')\n",
    "import seaborn as sns\n",
    "import ipyplot\n",
    "from ipywidgets import interact"
   ]
  },
  {
   "cell_type": "code",
   "execution_count": 2,
   "id": "municipal-sister",
   "metadata": {},
   "outputs": [],
   "source": [
    "#load pickle data\n",
    "dataloc = \"pickleFiles\"\n",
    "\n",
    "final_dU=pd.read_pickle(os.path.join(dataloc,\"dU_wo_seasn.pickle\"))\n",
    "final_dN=pd.read_pickle(os.path.join(dataloc,\"dN_wo_seasn.pickle\"))\n",
    "final_dE=pd.read_pickle(os.path.join(dataloc,\"dE_wo_seasn.pickle\"))"
   ]
  },
  {
   "cell_type": "code",
   "execution_count": 3,
   "id": "seventh-strategy",
   "metadata": {},
   "outputs": [],
   "source": [
    "stn_info_df = pd.read_csv('helper_files/selected_stations_info.txt')\n",
    "lons = stn_info_df['lon'].values\n",
    "lats = stn_info_df['lat'].values"
   ]
  },
  {
   "cell_type": "code",
   "execution_count": 4,
   "id": "ambient-hobby",
   "metadata": {},
   "outputs": [
    {
     "data": {
      "text/plain": [
       "(115, 4017)"
      ]
     },
     "execution_count": 4,
     "metadata": {},
     "output_type": "execute_result"
    }
   ],
   "source": [
    "time_series_U = final_dU.values.transpose()\n",
    "time_series_N = final_dN.values.transpose()\n",
    "time_series_E = final_dE.values.transpose()\n",
    "\n",
    "\n",
    "time_series_U.shape"
   ]
  },
  {
   "cell_type": "code",
   "execution_count": 5,
   "id": "suspected-founder",
   "metadata": {},
   "outputs": [],
   "source": [
    "## instantiate the class\n",
    "labels = [stnU.split(\"_\")[0] for stnU in final_dU.columns.values] #remove the prefix _U\n"
   ]
  },
  {
   "cell_type": "code",
   "execution_count": 6,
   "id": "aggregate-difference",
   "metadata": {},
   "outputs": [
    {
     "name": "stderr",
     "output_type": "stream",
     "text": [
      "The compiled dtaidistance C-OMP library is not available.\n",
      "Use Python's multiprocessing library for parellelization (use_mp=True).\n",
      "See the documentation for alternative installation options.\n",
      "The compiled dtaidistance C-OMP library is not available.\n",
      "Using the Python multiprocessing library instead (use_mp=True).\n",
      "See the documentation for alternative installation options.\n",
      "\n",
      " 99%|█████████▉| 114/115 [00:00<00:00, 3577.58it/s]\n"
     ]
    },
    {
     "data": {
      "application/vnd.jupyter.widget-view+json": {
       "model_id": "5e8cf4b7b0214e9a81a04dbcfa283335",
       "version_major": 2,
       "version_minor": 0
      },
      "text/plain": [
       "interactive(children=(FloatSlider(value=1350.923006751062, description='dtw_distance', max=5778.87808616486, m…"
      ]
     },
     "metadata": {},
     "output_type": "display_data"
    }
   ],
   "source": [
    "dtw_cluster_vertical = dtw_clustering(time_series_U,labels=labels, longitudes=lons, latitudes=lats)\n",
    "opt_cluster, opt_distance, (mindist, maxdist) = dtw_cluster_vertical.optimum_cluster_elbow(minmax=True)\n",
    "\n",
    "@interact(dtw_distance=(mindist, maxdist))\n",
    "def show_cluster_map(dtw_distance=opt_distance, show_interp_map=False):\n",
    "    if show_interp_map:\n",
    "        dtw_cluster_vertical.plot_cluster_geomap_interpolated(dtw_distance=dtw_distance,\n",
    "                         lonrange=(120., 122.),\n",
    "                         latrange=(21.8, 25.6),\n",
    "                         gridstep=0.01,\n",
    "                         figname=\"Figures/v_temp_cluster_map.pdf\",\n",
    "                         markerstyle='i0.3c',\n",
    "                         dpi=720,\n",
    "                         doffset=1)\n",
    "    else:\n",
    "        dtw_cluster_vertical.plot_cluster_geomap(figname=\"Figures/v_temp_cluster_map.pdf\", \n",
    "                                             plot_topo=True,\n",
    "                                             markerstyle='i0.5c',\n",
    "                                            cmap_topo='geo')\n",
    "    ipyplot.plot_images(['Figures/v_temp_cluster_map.pdf'], ['Vertical Cluster'], img_width=300)"
   ]
  },
  {
   "cell_type": "code",
   "execution_count": 7,
   "id": "junior-disposition",
   "metadata": {},
   "outputs": [
    {
     "name": "stderr",
     "output_type": "stream",
     "text": [
      "The compiled dtaidistance C-OMP library is not available.\n",
      "Use Python's multiprocessing library for parellelization (use_mp=True).\n",
      "See the documentation for alternative installation options.\n",
      "The compiled dtaidistance C-OMP library is not available.\n",
      "Using the Python multiprocessing library instead (use_mp=True).\n",
      "See the documentation for alternative installation options.\n",
      "\n",
      " 99%|█████████▉| 114/115 [00:00<00:00, 5772.40it/s]\n"
     ]
    },
    {
     "data": {
      "application/vnd.jupyter.widget-view+json": {
       "model_id": "83d2e1795a204230a4c42e9dc58592f5",
       "version_major": 2,
       "version_minor": 0
      },
      "text/plain": [
       "interactive(children=(FloatSlider(value=1737.6234862804804, description='dtw_distance', max=7098.549576015424,…"
      ]
     },
     "metadata": {},
     "output_type": "display_data"
    }
   ],
   "source": [
    "dtw_cluster_north = dtw_clustering(time_series_N,labels=labels, longitudes=lons, latitudes=lats)\n",
    "opt_cluster, opt_distance, (mindist, maxdist) = dtw_cluster_north.optimum_cluster_elbow(minmax=True)\n",
    "\n",
    "@interact(dtw_distance=(mindist, maxdist))\n",
    "def show_cluster_map(dtw_distance=opt_distance, show_interp_map=False, figname=\"Figures/n_temp_cluster_map.pdf\"):\n",
    "    if show_interp_map:\n",
    "        dtw_cluster_north.plot_cluster_geomap_interpolated(dtw_distance=dtw_distance,\n",
    "                         lonrange=(120., 122.),\n",
    "                         latrange=(21.8, 25.6),\n",
    "                         gridstep=0.01,\n",
    "                         figname=figname,\n",
    "                         markerstyle='i0.3c',\n",
    "                         dpi=720,\n",
    "                         doffset=1)\n",
    "    else:\n",
    "        dtw_cluster_north.plot_cluster_geomap(figname=figname, \n",
    "                                         plot_topo=True,\n",
    "                                         markerstyle='i0.5c',\n",
    "                                        cmap_topo='geo')\n",
    "    ipyplot.plot_images([figname], ['North Cluster'], img_width=300)"
   ]
  },
  {
   "cell_type": "code",
   "execution_count": 8,
   "id": "quantitative-wholesale",
   "metadata": {},
   "outputs": [
    {
     "name": "stderr",
     "output_type": "stream",
     "text": [
      "The compiled dtaidistance C-OMP library is not available.\n",
      "Use Python's multiprocessing library for parellelization (use_mp=True).\n",
      "See the documentation for alternative installation options.\n",
      "The compiled dtaidistance C-OMP library is not available.\n",
      "Using the Python multiprocessing library instead (use_mp=True).\n",
      "See the documentation for alternative installation options.\n",
      "\n",
      " 99%|█████████▉| 114/115 [00:00<00:00, 5266.79it/s]\n"
     ]
    },
    {
     "data": {
      "application/vnd.jupyter.widget-view+json": {
       "model_id": "da45f02faa924c309ebbc535ea3efa51",
       "version_major": 2,
       "version_minor": 0
      },
      "text/plain": [
       "interactive(children=(FloatSlider(value=4434.887798982461, description='dtw_distance', max=13452.134794394922,…"
      ]
     },
     "metadata": {},
     "output_type": "display_data"
    }
   ],
   "source": [
    "dtw_cluster_east = dtw_clustering(time_series_E,labels=labels, longitudes=lons, latitudes=lats)\n",
    "opt_cluster, opt_distance, (mindist, maxdist) = dtw_cluster_east.optimum_cluster_elbow(minmax=True)\n",
    "\n",
    "@interact(dtw_distance=(mindist, maxdist))\n",
    "def show_cluster_map(dtw_distance=opt_distance, show_interp_map=False, figname = \"Figures/e_temp_cluster_map.pdf\"):\n",
    "    if show_interp_map:\n",
    "        dtw_cluster_east.plot_cluster_geomap_interpolated(dtw_distance=dtw_distance,\n",
    "                         lonrange=(120., 122.),\n",
    "                         latrange=(21.8, 25.6),\n",
    "                         gridstep=0.01,\n",
    "                         figname=figname,\n",
    "                         markerstyle='i0.3c',\n",
    "                         dpi=720,\n",
    "                         doffset=1)\n",
    "    else:\n",
    "        dtw_cluster_east.plot_cluster_geomap(figname=figname, \n",
    "                                         plot_topo=True,\n",
    "                                         markerstyle='i0.5c',\n",
    "                                        cmap_topo='geo')\n",
    "    ipyplot.plot_images([figname], ['East Cluster'], img_width=300)"
   ]
  }
 ],
 "metadata": {
  "kernelspec": {
   "display_name": "Python 3",
   "language": "python",
   "name": "python3"
  },
  "language_info": {
   "codemirror_mode": {
    "name": "ipython",
    "version": 3
   },
   "file_extension": ".py",
   "mimetype": "text/x-python",
   "name": "python",
   "nbconvert_exporter": "python",
   "pygments_lexer": "ipython3",
   "version": "3.7.3"
  }
 },
 "nbformat": 4,
 "nbformat_minor": 5
}
