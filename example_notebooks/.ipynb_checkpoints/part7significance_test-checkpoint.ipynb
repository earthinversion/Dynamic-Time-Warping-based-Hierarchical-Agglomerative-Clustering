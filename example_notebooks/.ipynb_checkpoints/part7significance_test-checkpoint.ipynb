{
 "cells": [
  {
   "cell_type": "code",
   "execution_count": 1,
   "id": "widespread-implement",
   "metadata": {},
   "outputs": [],
   "source": [
    "from dtwhaclustering.dtw_analysis import dtw_signal_pairs, dtw_clustering\n",
    "import numpy as np\n",
    "from scipy import signal\n",
    "import matplotlib.pyplot as plt\n",
    "from dtaidistance import dtw\n",
    "import pandas as pd\n",
    "import os\n",
    "%matplotlib inline \n",
    "\n",
    "# default matplotlib parameters\n",
    "import matplotlib\n",
    "# font = {'family': 'Times',\n",
    "#         'weight': 'bold',\n",
    "#         'size': 22}\n",
    "\n",
    "# matplotlib.rc('font', **font)\n",
    "plt.rcParams[\"figure.figsize\"] = (12, 6)\n",
    "plt.style.use('ggplot')\n",
    "import seaborn as sns\n",
    "import ipyplot\n",
    "import warnings\n",
    "\n",
    "import os\n",
    "import sys\n",
    "sys.stderr = open(os.devnull, \"w\")  # silence stderr"
   ]
  },
  {
   "cell_type": "code",
   "execution_count": 2,
   "id": "powered-latvia",
   "metadata": {},
   "outputs": [],
   "source": [
    "#load pickle data\n",
    "dataloc = \"pickleFiles\"\n",
    "\n",
    "final_dU=pd.read_pickle(os.path.join(dataloc,\"dU_wo_seasn.pickle\"))\n",
    "final_dN=pd.read_pickle(os.path.join(dataloc,\"dN_wo_seasn.pickle\"))\n",
    "final_dE=pd.read_pickle(os.path.join(dataloc,\"dE_wo_seasn.pickle\"))"
   ]
  },
  {
   "cell_type": "code",
   "execution_count": 3,
   "id": "simplified-brazilian",
   "metadata": {},
   "outputs": [],
   "source": [
    "stn_info_df = pd.read_csv('helper_files/selected_stations_info.txt')\n",
    "lons = stn_info_df['lon'].values\n",
    "lats = stn_info_df['lat'].values"
   ]
  },
  {
   "cell_type": "code",
   "execution_count": 4,
   "id": "stupid-hygiene",
   "metadata": {},
   "outputs": [
    {
     "data": {
      "text/html": [
       "<div>\n",
       "<style scoped>\n",
       "    .dataframe tbody tr th:only-of-type {\n",
       "        vertical-align: middle;\n",
       "    }\n",
       "\n",
       "    .dataframe tbody tr th {\n",
       "        vertical-align: top;\n",
       "    }\n",
       "\n",
       "    .dataframe thead th {\n",
       "        text-align: right;\n",
       "    }\n",
       "</style>\n",
       "<table border=\"1\" class=\"dataframe\">\n",
       "  <thead>\n",
       "    <tr style=\"text-align: right;\">\n",
       "      <th></th>\n",
       "      <th>DAWU_U</th>\n",
       "      <th>GS36_U</th>\n",
       "      <th>CTOU_U</th>\n",
       "      <th>HSIN_U</th>\n",
       "      <th>GS31_U</th>\n",
       "      <th>SSUN_U</th>\n",
       "      <th>SFON_U</th>\n",
       "      <th>GS23_U</th>\n",
       "      <th>VR03_U</th>\n",
       "      <th>SLNP_U</th>\n",
       "      <th>...</th>\n",
       "      <th>DOSH_U</th>\n",
       "      <th>W029_U</th>\n",
       "      <th>NSHE_U</th>\n",
       "      <th>HUWE_U</th>\n",
       "      <th>SHJU_U</th>\n",
       "      <th>DNAN_U</th>\n",
       "      <th>PKGM_U</th>\n",
       "      <th>SLIN_U</th>\n",
       "      <th>MESN_U</th>\n",
       "      <th>WULU_U</th>\n",
       "    </tr>\n",
       "    <tr>\n",
       "      <th>Time</th>\n",
       "      <th></th>\n",
       "      <th></th>\n",
       "      <th></th>\n",
       "      <th></th>\n",
       "      <th></th>\n",
       "      <th></th>\n",
       "      <th></th>\n",
       "      <th></th>\n",
       "      <th></th>\n",
       "      <th></th>\n",
       "      <th></th>\n",
       "      <th></th>\n",
       "      <th></th>\n",
       "      <th></th>\n",
       "      <th></th>\n",
       "      <th></th>\n",
       "      <th></th>\n",
       "      <th></th>\n",
       "      <th></th>\n",
       "      <th></th>\n",
       "      <th></th>\n",
       "    </tr>\n",
       "  </thead>\n",
       "  <tbody>\n",
       "    <tr>\n",
       "      <th>2007-01-01</th>\n",
       "      <td>3.908294</td>\n",
       "      <td>-0.081488</td>\n",
       "      <td>-3.049840</td>\n",
       "      <td>-4.673059</td>\n",
       "      <td>10.533776</td>\n",
       "      <td>-1.476313</td>\n",
       "      <td>8.673984</td>\n",
       "      <td>4.530060</td>\n",
       "      <td>13.409948</td>\n",
       "      <td>-8.877830</td>\n",
       "      <td>...</td>\n",
       "      <td>-19.377178</td>\n",
       "      <td>-3.788125</td>\n",
       "      <td>1.743015</td>\n",
       "      <td>130.023461</td>\n",
       "      <td>8.220618</td>\n",
       "      <td>66.794490</td>\n",
       "      <td>-30.720817</td>\n",
       "      <td>-3.034473</td>\n",
       "      <td>-3.599844</td>\n",
       "      <td>-57.474679</td>\n",
       "    </tr>\n",
       "    <tr>\n",
       "      <th>2007-01-02</th>\n",
       "      <td>10.500799</td>\n",
       "      <td>7.948431</td>\n",
       "      <td>1.318779</td>\n",
       "      <td>-0.743764</td>\n",
       "      <td>9.331000</td>\n",
       "      <td>3.753709</td>\n",
       "      <td>6.669562</td>\n",
       "      <td>4.629491</td>\n",
       "      <td>22.623746</td>\n",
       "      <td>3.637930</td>\n",
       "      <td>...</td>\n",
       "      <td>-8.896452</td>\n",
       "      <td>-6.097189</td>\n",
       "      <td>8.503721</td>\n",
       "      <td>137.846113</td>\n",
       "      <td>13.530092</td>\n",
       "      <td>70.849086</td>\n",
       "      <td>-24.866085</td>\n",
       "      <td>-12.179227</td>\n",
       "      <td>-14.733458</td>\n",
       "      <td>-47.341336</td>\n",
       "    </tr>\n",
       "    <tr>\n",
       "      <th>2007-01-03</th>\n",
       "      <td>4.008854</td>\n",
       "      <td>6.446352</td>\n",
       "      <td>4.105762</td>\n",
       "      <td>12.184217</td>\n",
       "      <td>9.198563</td>\n",
       "      <td>7.073537</td>\n",
       "      <td>6.987663</td>\n",
       "      <td>13.166624</td>\n",
       "      <td>12.013241</td>\n",
       "      <td>-4.880878</td>\n",
       "      <td>...</td>\n",
       "      <td>-22.097870</td>\n",
       "      <td>9.628858</td>\n",
       "      <td>2.767164</td>\n",
       "      <td>138.107636</td>\n",
       "      <td>16.818000</td>\n",
       "      <td>72.697599</td>\n",
       "      <td>-19.829117</td>\n",
       "      <td>-21.627860</td>\n",
       "      <td>-11.893865</td>\n",
       "      <td>-51.522350</td>\n",
       "    </tr>\n",
       "    <tr>\n",
       "      <th>2007-01-04</th>\n",
       "      <td>-0.031345</td>\n",
       "      <td>-0.846752</td>\n",
       "      <td>0.427601</td>\n",
       "      <td>-3.944638</td>\n",
       "      <td>6.705640</td>\n",
       "      <td>-2.433624</td>\n",
       "      <td>6.980915</td>\n",
       "      <td>5.301272</td>\n",
       "      <td>14.671148</td>\n",
       "      <td>-12.261464</td>\n",
       "      <td>...</td>\n",
       "      <td>-18.980924</td>\n",
       "      <td>-11.738634</td>\n",
       "      <td>-0.707047</td>\n",
       "      <td>129.183137</td>\n",
       "      <td>2.833268</td>\n",
       "      <td>66.621516</td>\n",
       "      <td>-31.362671</td>\n",
       "      <td>-29.660110</td>\n",
       "      <td>-19.988452</td>\n",
       "      <td>-59.711777</td>\n",
       "    </tr>\n",
       "    <tr>\n",
       "      <th>2007-01-05</th>\n",
       "      <td>-3.235729</td>\n",
       "      <td>2.166184</td>\n",
       "      <td>-3.995197</td>\n",
       "      <td>-6.788471</td>\n",
       "      <td>6.111140</td>\n",
       "      <td>-2.830265</td>\n",
       "      <td>-0.087687</td>\n",
       "      <td>3.937724</td>\n",
       "      <td>14.986668</td>\n",
       "      <td>-6.464705</td>\n",
       "      <td>...</td>\n",
       "      <td>-17.883469</td>\n",
       "      <td>-8.798023</td>\n",
       "      <td>-1.576212</td>\n",
       "      <td>128.433947</td>\n",
       "      <td>-2.769286</td>\n",
       "      <td>68.346757</td>\n",
       "      <td>-28.545909</td>\n",
       "      <td>-29.302730</td>\n",
       "      <td>-39.140370</td>\n",
       "      <td>-84.028366</td>\n",
       "    </tr>\n",
       "  </tbody>\n",
       "</table>\n",
       "<p>5 rows × 115 columns</p>\n",
       "</div>"
      ],
      "text/plain": [
       "               DAWU_U    GS36_U    CTOU_U     HSIN_U     GS31_U    SSUN_U  \\\n",
       "Time                                                                        \n",
       "2007-01-01   3.908294 -0.081488 -3.049840  -4.673059  10.533776 -1.476313   \n",
       "2007-01-02  10.500799  7.948431  1.318779  -0.743764   9.331000  3.753709   \n",
       "2007-01-03   4.008854  6.446352  4.105762  12.184217   9.198563  7.073537   \n",
       "2007-01-04  -0.031345 -0.846752  0.427601  -3.944638   6.705640 -2.433624   \n",
       "2007-01-05  -3.235729  2.166184 -3.995197  -6.788471   6.111140 -2.830265   \n",
       "\n",
       "              SFON_U     GS23_U     VR03_U     SLNP_U  ...     DOSH_U  \\\n",
       "Time                                                   ...              \n",
       "2007-01-01  8.673984   4.530060  13.409948  -8.877830  ... -19.377178   \n",
       "2007-01-02  6.669562   4.629491  22.623746   3.637930  ...  -8.896452   \n",
       "2007-01-03  6.987663  13.166624  12.013241  -4.880878  ... -22.097870   \n",
       "2007-01-04  6.980915   5.301272  14.671148 -12.261464  ... -18.980924   \n",
       "2007-01-05 -0.087687   3.937724  14.986668  -6.464705  ... -17.883469   \n",
       "\n",
       "               W029_U    NSHE_U      HUWE_U     SHJU_U     DNAN_U     PKGM_U  \\\n",
       "Time                                                                           \n",
       "2007-01-01  -3.788125  1.743015  130.023461   8.220618  66.794490 -30.720817   \n",
       "2007-01-02  -6.097189  8.503721  137.846113  13.530092  70.849086 -24.866085   \n",
       "2007-01-03   9.628858  2.767164  138.107636  16.818000  72.697599 -19.829117   \n",
       "2007-01-04 -11.738634 -0.707047  129.183137   2.833268  66.621516 -31.362671   \n",
       "2007-01-05  -8.798023 -1.576212  128.433947  -2.769286  68.346757 -28.545909   \n",
       "\n",
       "               SLIN_U     MESN_U     WULU_U  \n",
       "Time                                         \n",
       "2007-01-01  -3.034473  -3.599844 -57.474679  \n",
       "2007-01-02 -12.179227 -14.733458 -47.341336  \n",
       "2007-01-03 -21.627860 -11.893865 -51.522350  \n",
       "2007-01-04 -29.660110 -19.988452 -59.711777  \n",
       "2007-01-05 -29.302730 -39.140370 -84.028366  \n",
       "\n",
       "[5 rows x 115 columns]"
      ]
     },
     "execution_count": 4,
     "metadata": {},
     "output_type": "execute_result"
    }
   ],
   "source": [
    "final_dU.head()"
   ]
  },
  {
   "cell_type": "code",
   "execution_count": 5,
   "id": "hairy-welcome",
   "metadata": {},
   "outputs": [
    {
     "data": {
      "text/plain": [
       "(115, 4017)"
      ]
     },
     "execution_count": 5,
     "metadata": {},
     "output_type": "execute_result"
    }
   ],
   "source": [
    "time_series_U = final_dU.values.transpose()\n",
    "time_series_N = final_dN.values.transpose()\n",
    "time_series_E = final_dE.values.transpose()\n",
    "\n",
    "\n",
    "time_series_U.shape"
   ]
  },
  {
   "cell_type": "markdown",
   "id": "utility-fitting",
   "metadata": {},
   "source": [
    "## Significance test of the # of clusters for vertical component using bootstrapping"
   ]
  },
  {
   "cell_type": "code",
   "execution_count": 6,
   "id": "third-nothing",
   "metadata": {},
   "outputs": [],
   "source": [
    "## instantiate the class\n",
    "labels = [stnU.split(\"_\")[0] for stnU in final_dU.columns.values] #remove the prefix _U\n",
    "dtw_cluster_vertical = dtw_clustering(time_series_U,labels=labels, longitudes=lons, latitudes=lats)"
   ]
  },
  {
   "cell_type": "code",
   "execution_count": 7,
   "id": "radical-moscow",
   "metadata": {},
   "outputs": [
    {
     "data": {
      "text/plain": [
       "(5, 1350.923006751062)"
      ]
     },
     "execution_count": 7,
     "metadata": {},
     "output_type": "execute_result"
    }
   ],
   "source": [
    "opt_cluster, opt_distance = dtw_cluster_vertical.optimum_cluster_elbow()\n",
    "opt_cluster, opt_distance"
   ]
  },
  {
   "cell_type": "code",
   "execution_count": 8,
   "id": "falling-religion",
   "metadata": {},
   "outputs": [],
   "source": [
    "df_cv, df_accl = dtw_cluster_vertical.compute_distance_accl()"
   ]
  },
  {
   "cell_type": "code",
   "execution_count": 9,
   "id": "peaceful-summer",
   "metadata": {
    "scrolled": false
   },
   "outputs": [
    {
     "name": "stdout",
     "output_type": "stream",
     "text": [
      "Simulation started...\n"
     ]
    }
   ],
   "source": [
    "vert_sim_accl, _ = dtw_cluster_vertical.significance_test(numsimulations=0, outfile='pickleFiles/dU_accl_sim_results.pickle', fresh_start=False)"
   ]
  },
  {
   "cell_type": "code",
   "execution_count": 10,
   "id": "recreational-preserve",
   "metadata": {},
   "outputs": [
    {
     "data": {
      "text/html": [
       "<div>\n",
       "<style scoped>\n",
       "    .dataframe tbody tr th:only-of-type {\n",
       "        vertical-align: middle;\n",
       "    }\n",
       "\n",
       "    .dataframe tbody tr th {\n",
       "        vertical-align: top;\n",
       "    }\n",
       "\n",
       "    .dataframe thead th {\n",
       "        text-align: right;\n",
       "    }\n",
       "</style>\n",
       "<table border=\"1\" class=\"dataframe\">\n",
       "  <thead>\n",
       "    <tr style=\"text-align: right;\">\n",
       "      <th></th>\n",
       "      <th>accl_0</th>\n",
       "      <th>accl_1</th>\n",
       "      <th>accl_2</th>\n",
       "      <th>accl_3</th>\n",
       "      <th>accl_4</th>\n",
       "      <th>accl_5</th>\n",
       "      <th>accl_6</th>\n",
       "      <th>accl_7</th>\n",
       "      <th>accl_8</th>\n",
       "      <th>accl_9</th>\n",
       "      <th>...</th>\n",
       "      <th>accl_90</th>\n",
       "      <th>accl_91</th>\n",
       "      <th>accl_92</th>\n",
       "      <th>accl_93</th>\n",
       "      <th>accl_94</th>\n",
       "      <th>accl_95</th>\n",
       "      <th>accl_96</th>\n",
       "      <th>accl_97</th>\n",
       "      <th>accl_98</th>\n",
       "      <th>accl_99</th>\n",
       "    </tr>\n",
       "  </thead>\n",
       "  <tbody>\n",
       "    <tr>\n",
       "      <th>0</th>\n",
       "      <td>NaN</td>\n",
       "      <td>NaN</td>\n",
       "      <td>NaN</td>\n",
       "      <td>NaN</td>\n",
       "      <td>NaN</td>\n",
       "      <td>NaN</td>\n",
       "      <td>NaN</td>\n",
       "      <td>NaN</td>\n",
       "      <td>NaN</td>\n",
       "      <td>NaN</td>\n",
       "      <td>...</td>\n",
       "      <td>NaN</td>\n",
       "      <td>NaN</td>\n",
       "      <td>NaN</td>\n",
       "      <td>NaN</td>\n",
       "      <td>NaN</td>\n",
       "      <td>NaN</td>\n",
       "      <td>NaN</td>\n",
       "      <td>NaN</td>\n",
       "      <td>NaN</td>\n",
       "      <td>NaN</td>\n",
       "    </tr>\n",
       "    <tr>\n",
       "      <th>1</th>\n",
       "      <td>NaN</td>\n",
       "      <td>NaN</td>\n",
       "      <td>NaN</td>\n",
       "      <td>NaN</td>\n",
       "      <td>NaN</td>\n",
       "      <td>NaN</td>\n",
       "      <td>NaN</td>\n",
       "      <td>NaN</td>\n",
       "      <td>NaN</td>\n",
       "      <td>NaN</td>\n",
       "      <td>...</td>\n",
       "      <td>NaN</td>\n",
       "      <td>NaN</td>\n",
       "      <td>NaN</td>\n",
       "      <td>NaN</td>\n",
       "      <td>NaN</td>\n",
       "      <td>NaN</td>\n",
       "      <td>NaN</td>\n",
       "      <td>NaN</td>\n",
       "      <td>NaN</td>\n",
       "      <td>NaN</td>\n",
       "    </tr>\n",
       "    <tr>\n",
       "      <th>2</th>\n",
       "      <td>-5.504795</td>\n",
       "      <td>-3.370657</td>\n",
       "      <td>-13.724642</td>\n",
       "      <td>-8.423487</td>\n",
       "      <td>-13.930517</td>\n",
       "      <td>-7.181333</td>\n",
       "      <td>-16.832447</td>\n",
       "      <td>-17.084107</td>\n",
       "      <td>-11.713108</td>\n",
       "      <td>-15.562328</td>\n",
       "      <td>...</td>\n",
       "      <td>-3.391673</td>\n",
       "      <td>-11.458538</td>\n",
       "      <td>-10.954918</td>\n",
       "      <td>-10.706111</td>\n",
       "      <td>-8.070752</td>\n",
       "      <td>-13.685424</td>\n",
       "      <td>-8.057746</td>\n",
       "      <td>-9.836619</td>\n",
       "      <td>-8.824411</td>\n",
       "      <td>-14.396021</td>\n",
       "    </tr>\n",
       "    <tr>\n",
       "      <th>3</th>\n",
       "      <td>13.222464</td>\n",
       "      <td>6.681928</td>\n",
       "      <td>14.183309</td>\n",
       "      <td>7.192979</td>\n",
       "      <td>15.597055</td>\n",
       "      <td>10.693033</td>\n",
       "      <td>19.203320</td>\n",
       "      <td>20.329192</td>\n",
       "      <td>15.107834</td>\n",
       "      <td>16.803173</td>\n",
       "      <td>...</td>\n",
       "      <td>2.945827</td>\n",
       "      <td>13.464991</td>\n",
       "      <td>13.510254</td>\n",
       "      <td>15.346689</td>\n",
       "      <td>10.712462</td>\n",
       "      <td>15.120871</td>\n",
       "      <td>13.524711</td>\n",
       "      <td>13.151834</td>\n",
       "      <td>3.286420</td>\n",
       "      <td>15.686691</td>\n",
       "    </tr>\n",
       "    <tr>\n",
       "      <th>4</th>\n",
       "      <td>-11.716906</td>\n",
       "      <td>-4.501481</td>\n",
       "      <td>-8.238530</td>\n",
       "      <td>-3.430334</td>\n",
       "      <td>-11.868268</td>\n",
       "      <td>-8.639646</td>\n",
       "      <td>-9.858624</td>\n",
       "      <td>-12.235660</td>\n",
       "      <td>-10.485557</td>\n",
       "      <td>-6.531977</td>\n",
       "      <td>...</td>\n",
       "      <td>-3.992377</td>\n",
       "      <td>-7.214982</td>\n",
       "      <td>-6.039272</td>\n",
       "      <td>-9.649469</td>\n",
       "      <td>-10.885103</td>\n",
       "      <td>-19.012510</td>\n",
       "      <td>-7.731090</td>\n",
       "      <td>-10.563611</td>\n",
       "      <td>-0.519218</td>\n",
       "      <td>-8.422627</td>\n",
       "    </tr>\n",
       "  </tbody>\n",
       "</table>\n",
       "<p>5 rows × 100 columns</p>\n",
       "</div>"
      ],
      "text/plain": [
       "      accl_0    accl_1     accl_2    accl_3     accl_4     accl_5     accl_6  \\\n",
       "0        NaN       NaN        NaN       NaN        NaN        NaN        NaN   \n",
       "1        NaN       NaN        NaN       NaN        NaN        NaN        NaN   \n",
       "2  -5.504795 -3.370657 -13.724642 -8.423487 -13.930517  -7.181333 -16.832447   \n",
       "3  13.222464  6.681928  14.183309  7.192979  15.597055  10.693033  19.203320   \n",
       "4 -11.716906 -4.501481  -8.238530 -3.430334 -11.868268  -8.639646  -9.858624   \n",
       "\n",
       "      accl_7     accl_8     accl_9  ...   accl_90    accl_91    accl_92  \\\n",
       "0        NaN        NaN        NaN  ...       NaN        NaN        NaN   \n",
       "1        NaN        NaN        NaN  ...       NaN        NaN        NaN   \n",
       "2 -17.084107 -11.713108 -15.562328  ... -3.391673 -11.458538 -10.954918   \n",
       "3  20.329192  15.107834  16.803173  ...  2.945827  13.464991  13.510254   \n",
       "4 -12.235660 -10.485557  -6.531977  ... -3.992377  -7.214982  -6.039272   \n",
       "\n",
       "     accl_93    accl_94    accl_95    accl_96    accl_97   accl_98    accl_99  \n",
       "0        NaN        NaN        NaN        NaN        NaN       NaN        NaN  \n",
       "1        NaN        NaN        NaN        NaN        NaN       NaN        NaN  \n",
       "2 -10.706111  -8.070752 -13.685424  -8.057746  -9.836619 -8.824411 -14.396021  \n",
       "3  15.346689  10.712462  15.120871  13.524711  13.151834  3.286420  15.686691  \n",
       "4  -9.649469 -10.885103 -19.012510  -7.731090 -10.563611 -0.519218  -8.422627  \n",
       "\n",
       "[5 rows x 100 columns]"
      ]
     },
     "execution_count": 10,
     "metadata": {},
     "output_type": "execute_result"
    }
   ],
   "source": [
    "vert_sim_accl.head()"
   ]
  },
  {
   "cell_type": "code",
   "execution_count": 21,
   "id": "oriented-kidney",
   "metadata": {},
   "outputs": [
    {
     "data": {
      "text/plain": [
       "array([         nan,          nan,   3.81076867,   3.84400158,\n",
       "         4.16583402,   5.2243587 ,   3.21978013,   3.04074084,\n",
       "         4.62793769,   5.65196656,   4.39184011,   3.48265785,\n",
       "         3.49228938,   4.50113215,   3.41709078,   1.56095582,\n",
       "         1.23661782,   1.29065117,   1.43106694,   2.68488898,\n",
       "         3.41054663,   3.6570834 ,   5.00282765,   4.62636825,\n",
       "         3.97591002,   2.72563636,   2.24167091,   2.15938319,\n",
       "         3.01889868,   4.03991126,   3.66862704,   3.79817423,\n",
       "         3.25533106,   2.18285801,   3.38344829,   4.87252894,\n",
       "         3.34223505,   2.49195565,   4.05089615,   6.49703729,\n",
       "         6.8640463 ,   4.88994566,   5.40254447,  12.86428934,\n",
       "        17.66538171,  19.3960348 ,  18.7321366 ,  13.12063712,\n",
       "         8.40773657,   7.092198  ,   5.11415379,   4.62731444,\n",
       "         6.10519363,   5.40550411,   4.37267906,   5.54816753,\n",
       "         6.60862244,   6.80673473,   7.88683567,   7.16656538,\n",
       "         6.81484979,   5.97041986,   7.81012989,   8.72042707,\n",
       "         7.80029776,   5.70858856,   7.2137196 ,   9.38495283,\n",
       "        10.27309976,  10.76021469,   6.53190269,   6.28181429,\n",
       "         7.2211047 ,   8.30269527,  11.82470978,  12.15549534,\n",
       "        11.25062997,   7.21484669,   7.2503297 ,   7.93527409,\n",
       "         7.20570152,  10.06742151,  12.27113652,  27.36624561,\n",
       "        67.84223261,  37.51858523,  16.46119988,  17.64607471,\n",
       "        12.55236908,  31.02828291,  21.9030343 ,  14.68372404,\n",
       "        12.49968834,  11.2083636 ,  11.00829546,  11.49575008,\n",
       "        14.31929961,  13.74777673,  16.84782581,  26.30444549,\n",
       "        43.79814334,  24.62610405,  15.56649213,  15.10424523,\n",
       "        30.42304062,  37.06810804,  32.61084259, 516.30114328,\n",
       "       901.58837812, 390.38368477, 289.00435085, 326.4037368 ,\n",
       "       175.07123819, 612.02406952])"
      ]
     },
     "execution_count": 21,
     "metadata": {},
     "output_type": "execute_result"
    }
   ],
   "source": [
    "vert_sim_accl_std = vert_sim_accl.std(axis=1).values\n",
    "vert_sim_accl_std"
   ]
  },
  {
   "cell_type": "code",
   "execution_count": 26,
   "id": "independent-group",
   "metadata": {},
   "outputs": [
    {
     "data": {
      "image/png": "[encoded data removed]",
      "text/plain": [
       "<Figure size 576x432 with 1 Axes>"
      ]
     },
     "metadata": {},
     "output_type": "display_data"
    }
   ],
   "source": [
    "with plt.style.context('seaborn'):\n",
    "    fig, ax = plt.subplots(figsize=(8,6))\n",
    "#     vert_sim_accl.plot(legend=False, color='k', lw=0.5, ax=ax)\n",
    "    \n",
    "    ax.plot(df_cv[\"level\"], df_cv[\"distance\"],\n",
    "                \"-o\", color='gray',ms=5)\n",
    "    ax.axvline(x=opt_cluster, color='r', lw=1)\n",
    "#     ax.plot(\n",
    "#                 df_accl[\"level\"],\n",
    "#                 df_accl[\"accln\"],\n",
    "#                 \"-\",\n",
    "#                 color='b',\n",
    "#                 label='# Orig clusters',\n",
    "#             )\n",
    "    ax.errorbar(df_accl[\"level\"].values, df_accl[\"accln\"].values, yerr=vert_sim_accl_std[::-1], fmt='o-', color='b', ms=2, lw=0.5)\n",
    "    \n",
    "    \n",
    "    ax.set_xlabel('# Clusters', fontsize=22)\n",
    "    plt.legend(loc=1)\n",
    "    plt.xticks(fontsize=20)\n",
    "    plt.yticks(fontsize=20)\n",
    "    plt.savefig(\"vert-monte-simulation.pdf\",bbox_inches='tight')\n"
   ]
  },
  {
   "cell_type": "markdown",
   "id": "frozen-thomson",
   "metadata": {},
   "source": [
    "## Significance test of the # of clusters for north component using bootstrapping"
   ]
  },
  {
   "cell_type": "code",
   "execution_count": 12,
   "id": "amazing-equilibrium",
   "metadata": {},
   "outputs": [],
   "source": [
    "dtw_cluster_north = dtw_clustering(time_series_N,labels=labels, longitudes=lons, latitudes=lats)\n",
    "opt_cluster_north, opt_distance_north = dtw_cluster_north.optimum_cluster_elbow()\n",
    "df_cv_north, df_accl_north = dtw_cluster_north.compute_distance_accl()\n"
   ]
  },
  {
   "cell_type": "code",
   "execution_count": 13,
   "id": "adverse-serial",
   "metadata": {},
   "outputs": [
    {
     "name": "stdout",
     "output_type": "stream",
     "text": [
      "Simulation started...\n"
     ]
    }
   ],
   "source": [
    "nor_sim_accl, _ = dtw_cluster_north.significance_test(numsimulations=0, outfile='pickleFiles/dN_accl_sim_results.pickle', fresh_start=False)"
   ]
  },
  {
   "cell_type": "code",
   "execution_count": 14,
   "id": "sitting-taylor",
   "metadata": {},
   "outputs": [
    {
     "data": {
      "image/png": "[encoded data removed]",
      "text/plain": [
       "<Figure size 576x432 with 1 Axes>"
      ]
     },
     "metadata": {},
     "output_type": "display_data"
    }
   ],
   "source": [
    "with plt.style.context('seaborn'):\n",
    "    fig, ax = plt.subplots(figsize=(8,6))\n",
    "    nor_sim_accl.plot(legend=False, color='k', lw=0.5, ax=ax)\n",
    "    ax.plot(df_cv_north[\"level\"], df_cv_north[\"distance\"],\n",
    "                \"-o\", color='gray', ms=5)\n",
    "    ax.axvline(x=opt_cluster_north,color='r', lw=1)\n",
    "    ax.plot(\n",
    "                df_accl_north[\"level\"],\n",
    "                df_accl_north[\"accln\"],\n",
    "                \"-\",\n",
    "                color='b',\n",
    "                label='# Orig clusters',\n",
    "            )\n",
    "    \n",
    "    ax.set_xlabel('# Clusters', fontsize=22)\n",
    "    plt.xticks(fontsize=20)\n",
    "    plt.yticks(fontsize=20)\n",
    "    plt.savefig(\"north-monte-simulation.pdf\",bbox_inches='tight')\n",
    "\n"
   ]
  },
  {
   "cell_type": "markdown",
   "id": "flying-kelly",
   "metadata": {},
   "source": [
    "## Significance test of the # of clusters for east component using bootstrapping"
   ]
  },
  {
   "cell_type": "code",
   "execution_count": 15,
   "id": "handed-relevance",
   "metadata": {},
   "outputs": [],
   "source": [
    "dtw_cluster_east = dtw_clustering(time_series_E,labels=labels, longitudes=lons, latitudes=lats)\n",
    "opt_cluster_east, opt_distance_east = dtw_cluster_east.optimum_cluster_elbow()\n",
    "df_cv_east, df_accl_east = dtw_cluster_east.compute_distance_accl()\n"
   ]
  },
  {
   "cell_type": "code",
   "execution_count": 16,
   "id": "nominated-ethics",
   "metadata": {},
   "outputs": [
    {
     "name": "stdout",
     "output_type": "stream",
     "text": [
      "Simulation started...\n"
     ]
    }
   ],
   "source": [
    "east_sim_accl, _ = dtw_cluster_east.significance_test(numsimulations=0, outfile='pickleFiles/dE_accl_sim_results.pickle', fresh_start=False)"
   ]
  },
  {
   "cell_type": "code",
   "execution_count": 17,
   "id": "advised-digit",
   "metadata": {},
   "outputs": [
    {
     "data": {
      "image/png": "[encoded data removed]",
      "text/plain": [
       "<Figure size 576x432 with 1 Axes>"
      ]
     },
     "metadata": {},
     "output_type": "display_data"
    }
   ],
   "source": [
    "with plt.style.context('seaborn'):\n",
    "    fig, ax = plt.subplots(figsize=(8,6))\n",
    "    east_sim_accl.plot(legend=False, color='k', lw=0.5, ax=ax)\n",
    "    ax.plot(df_cv_east[\"level\"], df_cv_east[\"distance\"],\n",
    "                \"-o\", color='gray', ms=5)\n",
    "    ax.axvline(x=opt_cluster_east, color='r', lw=1)\n",
    "    ax.plot(\n",
    "                df_accl_east[\"level\"],\n",
    "                df_accl_east[\"accln\"],\n",
    "                \"-\",\n",
    "                color='b',\n",
    "                label='# Orig clusters',\n",
    "            )\n",
    "    \n",
    "    ax.set_xlabel('# Clusters', fontsize=22)\n",
    "    plt.xticks(fontsize=20)\n",
    "    plt.yticks(fontsize=20)\n",
    "    plt.savefig(\"east-monte-simulation.pdf\",bbox_inches='tight')"
   ]
  },
  {
   "cell_type": "code",
   "execution_count": null,
   "id": "considered-grocery",
   "metadata": {},
   "outputs": [],
   "source": []
  }
 ],
 "metadata": {
  "kernelspec": {
   "display_name": "Python 3",
   "language": "python",
   "name": "python3"
  },
  "language_info": {
   "codemirror_mode": {
    "name": "ipython",
    "version": 3
   },
   "file_extension": ".py",
   "mimetype": "text/x-python",
   "name": "python",
   "nbconvert_exporter": "python",
   "pygments_lexer": "ipython3",
   "version": "3.7.3"
  }
 },
 "nbformat": 4,
 "nbformat_minor": 5
}
