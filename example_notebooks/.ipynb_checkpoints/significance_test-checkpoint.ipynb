{
 "cells": [
  {
   "cell_type": "code",
   "execution_count": 1,
   "id": "current-trash",
   "metadata": {},
   "outputs": [],
   "source": [
    "from dtwhaclustering.dtw_analysis import dtw_signal_pairs, dtw_clustering\n",
    "import numpy as np\n",
    "from scipy import signal\n",
    "import matplotlib.pyplot as plt\n",
    "from dtaidistance import dtw\n",
    "import pandas as pd\n",
    "import os\n",
    "%matplotlib inline \n",
    "\n",
    "# default matplotlib parameters\n",
    "import matplotlib\n",
    "# font = {'family': 'Times',\n",
    "#         'weight': 'bold',\n",
    "#         'size': 22}\n",
    "\n",
    "# matplotlib.rc('font', **font)\n",
    "plt.rcParams[\"figure.figsize\"] = (12, 6)\n",
    "plt.style.use('ggplot')\n",
    "import seaborn as sns\n",
    "import ipyplot\n",
    "import warnings\n",
    "\n",
    "import os\n",
    "import sys\n",
    "sys.stderr = open(os.devnull, \"w\")  # silence stderr"
   ]
  },
  {
   "cell_type": "code",
   "execution_count": 2,
   "id": "vocational-distinction",
   "metadata": {},
   "outputs": [],
   "source": [
    "#load pickle data\n",
    "dataloc = \"pickleFiles\"\n",
    "\n",
    "final_dU=pd.read_pickle(os.path.join(dataloc,\"dU_wo_seasn.pickle\"))\n",
    "final_dN=pd.read_pickle(os.path.join(dataloc,\"dN_wo_seasn.pickle\"))\n",
    "final_dE=pd.read_pickle(os.path.join(dataloc,\"dE_wo_seasn.pickle\"))"
   ]
  },
  {
   "cell_type": "code",
   "execution_count": 3,
   "id": "portuguese-brick",
   "metadata": {},
   "outputs": [],
   "source": [
    "stn_info_df = pd.read_csv('helper_files/selected_stations_info.txt')\n",
    "lons = stn_info_df['lon'].values\n",
    "lats = stn_info_df['lat'].values"
   ]
  },
  {
   "cell_type": "code",
   "execution_count": 4,
   "id": "liberal-insulation",
   "metadata": {},
   "outputs": [
    {
     "data": {
      "text/plain": [
       "(115, 4017)"
      ]
     },
     "execution_count": 4,
     "metadata": {},
     "output_type": "execute_result"
    }
   ],
   "source": [
    "time_series_U = final_dU.values.transpose()\n",
    "time_series_N = final_dN.values.transpose()\n",
    "time_series_E = final_dE.values.transpose()\n",
    "\n",
    "\n",
    "time_series_U.shape"
   ]
  },
  {
   "cell_type": "code",
   "execution_count": 5,
   "id": "distant-sense",
   "metadata": {},
   "outputs": [],
   "source": [
    "## instantiate the class\n",
    "labels = [stnU.split(\"_\")[0] for stnU in final_dU.columns.values] #remove the prefix _U\n",
    "dtw_cluster_vertical = dtw_clustering(time_series_U,labels=labels, longitudes=lons, latitudes=lats)"
   ]
  },
  {
   "cell_type": "code",
   "execution_count": null,
   "id": "loved-bathroom",
   "metadata": {
    "scrolled": false
   },
   "outputs": [
    {
     "name": "stdout",
     "output_type": "stream",
     "text": [
      "Simulation started...\n"
     ]
    }
   ],
   "source": [
    "dtw_cluster_vertical.significance_test(numsimulations=10)"
   ]
  }
 ],
 "metadata": {
  "kernelspec": {
   "display_name": "Python 3",
   "language": "python",
   "name": "python3"
  },
  "language_info": {
   "codemirror_mode": {
    "name": "ipython",
    "version": 3
   },
   "file_extension": ".py",
   "mimetype": "text/x-python",
   "name": "python",
   "nbconvert_exporter": "python",
   "pygments_lexer": "ipython3",
   "version": "3.7.3"
  }
 },
 "nbformat": 4,
 "nbformat_minor": 5
}
