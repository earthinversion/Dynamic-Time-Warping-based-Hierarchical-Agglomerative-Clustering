{
 "cells": [
  {
   "cell_type": "code",
   "execution_count": 1,
   "id": "quarterly-rocket",
   "metadata": {},
   "outputs": [],
   "source": [
    "from dtwhaclustering.dtw_analysis import dtw_signal_pairs, dtw_clustering, noise_robustness_test\n",
    "import numpy as np\n",
    "from scipy import signal\n",
    "import matplotlib.pyplot as plt\n",
    "from dtaidistance import dtw\n",
    "import pandas as pd\n",
    "import os\n",
    "%matplotlib inline \n",
    "\n",
    "# default matplotlib parameters\n",
    "import matplotlib\n",
    "# font = {'family': 'Times',\n",
    "#         'weight': 'bold',\n",
    "#         'size': 22}\n",
    "\n",
    "# matplotlib.rc('font', **font)\n",
    "plt.rcParams[\"figure.figsize\"] = (12, 6)\n",
    "plt.style.use('ggplot')\n",
    "import seaborn as sns\n",
    "import ipyplot\n",
    "\n",
    "import os\n",
    "import sys\n",
    "sys.stderr = open(os.devnull, \"w\")  # silence stderr"
   ]
  },
  {
   "cell_type": "code",
   "execution_count": 2,
   "id": "nearby-bracelet",
   "metadata": {},
   "outputs": [],
   "source": [
    "#load pickle data\n",
    "dataloc = \"pickleFiles\"\n",
    "\n",
    "final_dU=pd.read_pickle(os.path.join(dataloc,\"dU_wo_seasn.pickle\"))\n",
    "final_dN=pd.read_pickle(os.path.join(dataloc,\"dN_wo_seasn.pickle\"))\n",
    "final_dE=pd.read_pickle(os.path.join(dataloc,\"dE_wo_seasn.pickle\"))"
   ]
  },
  {
   "cell_type": "code",
   "execution_count": 3,
   "id": "employed-sweet",
   "metadata": {},
   "outputs": [],
   "source": [
    "stn_info_df = pd.read_csv('helper_files/selected_stations_info.txt')\n",
    "lons = stn_info_df['lon'].values\n",
    "lats = stn_info_df['lat'].values"
   ]
  },
  {
   "cell_type": "code",
   "execution_count": 4,
   "id": "fourth-julian",
   "metadata": {},
   "outputs": [
    {
     "data": {
      "text/plain": [
       "(115, 4017)"
      ]
     },
     "execution_count": 4,
     "metadata": {},
     "output_type": "execute_result"
    }
   ],
   "source": [
    "time_series_U = final_dU.values.transpose()\n",
    "time_series_N = final_dN.values.transpose()\n",
    "time_series_E = final_dE.values.transpose()\n",
    "\n",
    "\n",
    "time_series_U.shape"
   ]
  },
  {
   "cell_type": "code",
   "execution_count": 10,
   "id": "economic-casting",
   "metadata": {},
   "outputs": [
    {
     "name": "stderr",
     "output_type": "stream",
     "text": [
      "The compiled dtaidistance C-OMP library is not available.\n",
      "Use Python's multiprocessing library for parellelization (use_mp=True).\n",
      "See the documentation for alternative installation options.\n",
      "The compiled dtaidistance C-OMP library is not available.\n",
      "Using the Python multiprocessing library instead (use_mp=True).\n",
      "See the documentation for alternative installation options.\n",
      "\n",
      "The compiled dtaidistance C-OMP library is not available.\n",
      "Use Python's multiprocessing library for parellelization (use_mp=True).\n",
      "See the documentation for alternative installation options.\n",
      "The compiled dtaidistance C-OMP library is not available.\n",
      "Using the Python multiprocessing library instead (use_mp=True).\n",
      "See the documentation for alternative installation options.\n",
      "\n",
      "The compiled dtaidistance C-OMP library is not available.\n",
      "Use Python's multiprocessing library for parellelization (use_mp=True).\n",
      "See the documentation for alternative installation options.\n",
      "The compiled dtaidistance C-OMP library is not available.\n",
      "Using the Python multiprocessing library instead (use_mp=True).\n",
      "See the documentation for alternative installation options.\n",
      "\n",
      "The compiled dtaidistance C-OMP library is not available.\n",
      "Use Python's multiprocessing library for parellelization (use_mp=True).\n",
      "See the documentation for alternative installation options.\n",
      "The compiled dtaidistance C-OMP library is not available.\n",
      "Using the Python multiprocessing library instead (use_mp=True).\n",
      "See the documentation for alternative installation options.\n",
      "\n",
      "The compiled dtaidistance C-OMP library is not available.\n",
      "Use Python's multiprocessing library for parellelization (use_mp=True).\n",
      "See the documentation for alternative installation options.\n",
      "The compiled dtaidistance C-OMP library is not available.\n",
      "Using the Python multiprocessing library instead (use_mp=True).\n",
      "See the documentation for alternative installation options.\n",
      "\n",
      "The compiled dtaidistance C-OMP library is not available.\n",
      "Use Python's multiprocessing library for parellelization (use_mp=True).\n",
      "See the documentation for alternative installation options.\n",
      "The compiled dtaidistance C-OMP library is not available.\n",
      "Using the Python multiprocessing library instead (use_mp=True).\n",
      "See the documentation for alternative installation options.\n",
      "\n",
      "The compiled dtaidistance C-OMP library is not available.\n",
      "Use Python's multiprocessing library for parellelization (use_mp=True).\n",
      "See the documentation for alternative installation options.\n",
      "The compiled dtaidistance C-OMP library is not available.\n",
      "Using the Python multiprocessing library instead (use_mp=True).\n",
      "See the documentation for alternative installation options.\n",
      "\n",
      "The compiled dtaidistance C-OMP library is not available.\n",
      "Use Python's multiprocessing library for parellelization (use_mp=True).\n",
      "See the documentation for alternative installation options.\n",
      "The compiled dtaidistance C-OMP library is not available.\n",
      "Using the Python multiprocessing library instead (use_mp=True).\n",
      "See the documentation for alternative installation options.\n",
      "\n",
      "The compiled dtaidistance C-OMP library is not available.\n",
      "Use Python's multiprocessing library for parellelization (use_mp=True).\n",
      "See the documentation for alternative installation options.\n",
      "The compiled dtaidistance C-OMP library is not available.\n",
      "Using the Python multiprocessing library instead (use_mp=True).\n",
      "See the documentation for alternative installation options.\n",
      "\n",
      "The compiled dtaidistance C-OMP library is not available.\n",
      "Use Python's multiprocessing library for parellelization (use_mp=True).\n",
      "See the documentation for alternative installation options.\n",
      "The compiled dtaidistance C-OMP library is not available.\n",
      "Using the Python multiprocessing library instead (use_mp=True).\n",
      "See the documentation for alternative installation options.\n",
      "\n"
     ]
    },
    {
     "data": {
      "image/png": "[encoded data removed]",
      "text/plain": [
       "<Figure size 720x432 with 1 Axes>"
      ]
     },
     "metadata": {},
     "output_type": "display_data"
    }
   ],
   "source": [
    "fig, ax = plt.subplots(figsize=(10,6))\n",
    "for sigma in [0.01, 0.05, 0.1, 0.2, 0.5]:\n",
    "    percent_change_in_dendro = noise_robustness_test(final_dU,sigma=sigma)\n",
    "    ax.plot(sigma, percent_change_in_dendro)\n",
    "    "
   ]
  },
  {
   "cell_type": "code",
   "execution_count": 8,
   "id": "operating-final",
   "metadata": {},
   "outputs": [
    {
     "data": {
      "text/plain": [
       "0.04978839930296241"
      ]
     },
     "execution_count": 8,
     "metadata": {},
     "output_type": "execute_result"
    }
   ],
   "source": [
    "percent_change_in_dendro"
   ]
  },
  {
   "cell_type": "code",
   "execution_count": null,
   "id": "light-broadcast",
   "metadata": {},
   "outputs": [],
   "source": []
  }
 ],
 "metadata": {
  "kernelspec": {
   "display_name": "Python 3",
   "language": "python",
   "name": "python3"
  },
  "language_info": {
   "codemirror_mode": {
    "name": "ipython",
    "version": 3
   },
   "file_extension": ".py",
   "mimetype": "text/x-python",
   "name": "python",
   "nbconvert_exporter": "python",
   "pygments_lexer": "ipython3",
   "version": "3.7.3"
  }
 },
 "nbformat": 4,
 "nbformat_minor": 5
}
